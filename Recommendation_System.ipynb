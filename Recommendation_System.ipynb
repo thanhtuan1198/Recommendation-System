{
  "nbformat": 4,
  "nbformat_minor": 0,
  "metadata": {
    "colab": {
      "name": "Recommendation_System.ipynb",
      "provenance": []
    },
    "kernelspec": {
      "name": "python3",
      "display_name": "Python 3"
    }
  },
  "cells": [
    {
      "cell_type": "code",
      "metadata": {
        "id": "Ca2lHodpPMLz",
        "colab_type": "code",
        "colab": {}
      },
      "source": [
        "%matplotlib inline\n",
        "import numpy as np"
      ],
      "execution_count": 0,
      "outputs": []
    },
    {
      "cell_type": "markdown",
      "metadata": {
        "id": "xQ1QNddmVcWz",
        "colab_type": "text"
      },
      "source": [
        "Load TV shows from file"
      ]
    },
    {
      "cell_type": "code",
      "metadata": {
        "id": "Hm3i0ASOxjL8",
        "colab_type": "code",
        "colab": {}
      },
      "source": [
        "shows = []\n",
        "with open(\"shows.txt\", \"r\") as f:\n",
        "  for showline in f:\n",
        "    shows.append(showline.strip()[1:-1])"
      ],
      "execution_count": 0,
      "outputs": []
    },
    {
      "cell_type": "markdown",
      "metadata": {
        "id": "d3rMugkCVh6J",
        "colab_type": "text"
      },
      "source": [
        "Load ratings Matrix R( m x n numpy matrix) from file"
      ]
    },
    {
      "cell_type": "code",
      "metadata": {
        "id": "eZSu32tqxlGR",
        "colab_type": "code",
        "colab": {}
      },
      "source": [
        "R = np.loadtxt(\"user-shows.txt\", dtype='int')"
      ],
      "execution_count": 0,
      "outputs": []
    },
    {
      "cell_type": "markdown",
      "metadata": {
        "id": "xNrps7tRVq3z",
        "colab_type": "text"
      },
      "source": [
        "Calculate axis sum\n",
        "m = 9985(user counts), n = 563(movie counts)"
      ]
    },
    {
      "cell_type": "code",
      "metadata": {
        "id": "aK49EkV7xo1F",
        "colab_type": "code",
        "colab": {}
      },
      "source": [
        "m,n = R.shape"
      ],
      "execution_count": 0,
      "outputs": []
    },
    {
      "cell_type": "markdown",
      "metadata": {
        "id": "snjn8TiqV2Vi",
        "colab_type": "text"
      },
      "source": [
        "init diagonal Matrix P(m x m)"
      ]
    },
    {
      "cell_type": "code",
      "metadata": {
        "id": "jpd7wKpQx7QO",
        "colab_type": "code",
        "colab": {}
      },
      "source": [
        "P = np.zeros(shape=(m,m), dtype='int')"
      ],
      "execution_count": 0,
      "outputs": []
    },
    {
      "cell_type": "markdown",
      "metadata": {
        "id": "kW-UJGO-V9L-",
        "colab_type": "text"
      },
      "source": [
        "init diagonal Matrix Q (n x n)"
      ]
    },
    {
      "cell_type": "code",
      "metadata": {
        "id": "KEE_lF5gx8Kq",
        "colab_type": "code",
        "colab": {}
      },
      "source": [
        "Q = np.zeros(shape=(n, n), dtype='int')"
      ],
      "execution_count": 0,
      "outputs": []
    },
    {
      "cell_type": "markdown",
      "metadata": {
        "id": "qB_pGt5HWI6l",
        "colab_type": "text"
      },
      "source": [
        "Calculate R axis sum to fill P,Q\n",
        "R1 (563,) to fill Q\n",
        "R2 (9985,) to fill P"
      ]
    },
    {
      "cell_type": "code",
      "metadata": {
        "id": "6RWqyrvTGiID",
        "colab_type": "code",
        "colab": {}
      },
      "source": [
        "R1 = np.sum(R, axis=0)\n",
        "R2 = np.sum(R, axis=1)"
      ],
      "execution_count": 0,
      "outputs": []
    },
    {
      "cell_type": "markdown",
      "metadata": {
        "id": "IGy6eSwqWwsg",
        "colab_type": "text"
      },
      "source": [
        "each user"
      ]
    },
    {
      "cell_type": "code",
      "metadata": {
        "id": "FVw4CNayRWUQ",
        "colab_type": "code",
        "colab": {}
      },
      "source": [
        "for u in range(m):\n",
        "  P[u][u] = R2[u]"
      ],
      "execution_count": 0,
      "outputs": []
    },
    {
      "cell_type": "markdown",
      "metadata": {
        "id": "OTBkfjQGW6FO",
        "colab_type": "text"
      },
      "source": [
        "each item/movie"
      ]
    },
    {
      "cell_type": "code",
      "metadata": {
        "id": "Jlw6SbbAyAcE",
        "colab_type": "code",
        "colab": {}
      },
      "source": [
        "for i in range(n):\n",
        "  Q[i][i] = R1[i]"
      ],
      "execution_count": 0,
      "outputs": []
    },
    {
      "cell_type": "markdown",
      "metadata": {
        "id": "Ib39Fd7PXKKU",
        "colab_type": "text"
      },
      "source": [
        "P,Q is done computation"
      ]
    },
    {
      "cell_type": "markdown",
      "metadata": {
        "id": "TTy9L-pUXNyw",
        "colab_type": "text"
      },
      "source": [
        "R's transpose"
      ]
    },
    {
      "cell_type": "code",
      "metadata": {
        "id": "CdrxuCx5XQnz",
        "colab_type": "code",
        "colab": {}
      },
      "source": [
        "Rt = np.transpose(R)"
      ],
      "execution_count": 0,
      "outputs": []
    },
    {
      "cell_type": "code",
      "metadata": {
        "id": "mwwO2k8VXZDa",
        "colab_type": "code",
        "colab": {}
      },
      "source": [
        "RtR = np.matmul(Rt, R)\n",
        "RRt = np.matmul(R, Rt)"
      ],
      "execution_count": 0,
      "outputs": []
    },
    {
      "cell_type": "code",
      "metadata": {
        "id": "sva_B326XkJL",
        "colab_type": "code",
        "colab": {}
      },
      "source": [
        "Q1 = np.linalg.inv(np.sqrt(Q))\n",
        "P1 = np.linalg.inv(np.sqrt(P))"
      ],
      "execution_count": 0,
      "outputs": []
    },
    {
      "cell_type": "markdown",
      "metadata": {
        "id": "7kCZaR4XX5bO",
        "colab_type": "text"
      },
      "source": [
        "m x m"
      ]
    },
    {
      "cell_type": "code",
      "metadata": {
        "id": "SmA3qyRwX1ji",
        "colab_type": "code",
        "colab": {}
      },
      "source": [
        "tmp = np.matmul(P1, RRt)\n",
        "Su = np.matmul(tmp, P1)"
      ],
      "execution_count": 0,
      "outputs": []
    },
    {
      "cell_type": "markdown",
      "metadata": {
        "id": "YooUng0lYXgr",
        "colab_type": "text"
      },
      "source": [
        "n x n"
      ]
    },
    {
      "cell_type": "code",
      "metadata": {
        "id": "YhRb5QKpYWJS",
        "colab_type": "code",
        "colab": {}
      },
      "source": [
        "i_tmp = np.matmul(Q1, RtR)\n",
        "Si = np.matmul(i_tmp, Q1)"
      ],
      "execution_count": 0,
      "outputs": []
    },
    {
      "cell_type": "markdown",
      "metadata": {
        "id": "3NDp8h5VY27X",
        "colab_type": "text"
      },
      "source": [
        "Compute Recommendation score Matrix Gamma Y\n",
        "User_User: for User-User collaborative filtering\n",
        "User_User = Su x R"
      ]
    },
    {
      "cell_type": "code",
      "metadata": {
        "id": "GFHUh8uYZNKO",
        "colab_type": "code",
        "colab": {}
      },
      "source": [
        "User_User = np.matmul(Su, R)"
      ],
      "execution_count": 0,
      "outputs": []
    },
    {
      "cell_type": "markdown",
      "metadata": {
        "id": "t04KmP5AZTto",
        "colab_type": "text"
      },
      "source": [
        "Item_Item: for item_item collaborative filtering\n",
        "Item_Item = R x Si"
      ]
    },
    {
      "cell_type": "code",
      "metadata": {
        "id": "mSLvxzfqZc0F",
        "colab_type": "code",
        "colab": {}
      },
      "source": [
        "Item_Item = np.matmul(R, Si)"
      ],
      "execution_count": 0,
      "outputs": []
    },
    {
      "cell_type": "markdown",
      "metadata": {
        "id": "qTPchE0hZo3S",
        "colab_type": "text"
      },
      "source": [
        "Recommendation user-user"
      ]
    },
    {
      "cell_type": "code",
      "metadata": {
        "id": "wIDKnrcQZoE6",
        "colab_type": "code",
        "colab": {}
      },
      "source": [
        "Rec_uu = (-User_User[499][0:100].argsort()[:5])"
      ],
      "execution_count": 0,
      "outputs": []
    },
    {
      "cell_type": "markdown",
      "metadata": {
        "id": "nXdxc2o9aDUC",
        "colab_type": "text"
      },
      "source": [
        "Recommendation item-item"
      ]
    },
    {
      "cell_type": "code",
      "metadata": {
        "id": "IUmBssKcaGlj",
        "colab_type": "code",
        "colab": {}
      },
      "source": [
        "Rec_ii = (-Item_Item[499][0:100]).argsort()[:5]"
      ],
      "execution_count": 0,
      "outputs": []
    },
    {
      "cell_type": "markdown",
      "metadata": {
        "id": "K5ZLm_o3aUln",
        "colab_type": "text"
      },
      "source": [
        "Write result recommendation"
      ]
    },
    {
      "cell_type": "code",
      "metadata": {
        "id": "7tGCDnmqabeE",
        "colab_type": "code",
        "colab": {
          "base_uri": "https://localhost:8080/",
          "height": 225
        },
        "outputId": "6584b64a-fa2e-4d8e-c255-4d933dab213f"
      },
      "source": [
        "fp = open('result.txt', 'w+')\n",
        "print(\"User - User, Top 5 recomendation for Thach:\")\n",
        "for i in range(5):\n",
        "  print(\"\\tSimilarity score = %.5f\" %(User_User[499][Rec_uu[i]]), \"\\tMovie:\", shows[Rec_uu[i]])\n",
        "\n",
        "\n",
        "\n",
        "print(\"Item - Item, Top 5 recommendation for Thach:\")\n",
        "for i in range(5):\n",
        "\tprint(\"\\tSimilarity score = %.5f\" % (Item_Item[499][Rec_ii[i]]), \"\\tMovie: \", shows[Rec_ii[i]])\n",
        "\n",
        "\n",
        "fp.close()"
      ],
      "execution_count": 24,
      "outputs": [
        {
          "output_type": "stream",
          "text": [
            "User - User, Top 5 recomendation for Thach:\n",
            "\tSimilarity score = 132.61739 \tMovie: Real World Road Rules: The Duel 2 \n",
            "\tSimilarity score = 104.24310 \tMovie: Baby Mama\n",
            "\tSimilarity score = 157.87762 \tMovie: The Fast and the Furious\n",
            "\tSimilarity score = 143.69937 \tMovie: THS Investigates\n",
            "\tSimilarity score = 171.03768 \tMovie: Most Daring\n",
            "Item - Item, Top 5 recommendation for Thach:\n",
            "\tSimilarity score = 31.36470 \tMovie:  FOX 28 News at 10pm\n",
            "\tSimilarity score = 30.00114 \tMovie:  Family Guy\n",
            "\tSimilarity score = 29.39680 \tMovie:  NBC 4 at Eleven\n",
            "\tSimilarity score = 29.22700 \tMovie:  2009 NCAA Basketball Tournament\n",
            "\tSimilarity score = 28.97128 \tMovie:  Access Hollywood\n"
          ],
          "name": "stdout"
        }
      ]
    }
  ]
}